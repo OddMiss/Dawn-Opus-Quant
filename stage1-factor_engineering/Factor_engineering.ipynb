{
 "cells": [
  {
   "cell_type": "markdown",
   "metadata": {},
   "source": [
    "- Basic principle (Multi-factors model)\n",
    "\n",
    "Factor is a variable to measure the change in assert returns. Factor is also named **feature**.\n",
    "\n",
    "* Classification\n",
    "  * Fundamental analysis\n",
    "    * Eernings\n",
    "  * Technical analysis\n",
    "    * KDJ\n",
    "    * MACD\n",
    "    * MA\n",
    "  * Macro factors\n",
    "    * Interest rates\n",
    "  * Public opinion factors\n",
    "* Calculation\n",
    "  * company financial statements\n",
    "  * getting technical factors from software\n",
    "  * from analysts\n",
    "  * building ourselves\n",
    "* Steps of building factors\n",
    "  * obtaining data\n",
    "  * establishing conversion function(single factor)\n",
    "  * combining different factors and building expressions\n",
    "* Evaluation\n",
    "  * RankIC\n",
    "  * IC\n",
    "  * tiered earnings\n",
    "  * stratified turnover and autocorrelation"
   ]
  },
  {
   "cell_type": "markdown",
   "metadata": {},
   "source": [
    "#### high factor exposure\n",
    "In factor investing, high factor exposure refers to the strong correlation between a portfolio or security and a specific factor. In simple terms, if a portfolio or security has high exposure to a factor, its performance (such as returns) is more likely to be influenced by that factor. This means that when the factor performs well, the portfolio or security is likely to perform well, and vice versa.\n",
    "\n",
    "For example, let's consider the use of the market value factor (i.e., company market capitalization) in stock investing. If a portfolio has high exposure to the market value factor, its performance will be more susceptible to the influence of the market value factor. If the market value factor increases, the portfolio may perform well; conversely, if the market value factor decreases, the portfolio may underperform. Therefore, understanding the high factor exposure of a portfolio or security is crucial for investors as it helps them better comprehend the performance and risk characteristics of their investments."
   ]
  },
  {
   "cell_type": "markdown",
   "metadata": {},
   "source": [
    "#### Bilibili course\n",
    "- Volume is an important element when we build factors."
   ]
  },
  {
   "cell_type": "code",
   "execution_count": 1,
   "metadata": {},
   "outputs": [],
   "source": [
    "import pandas as pd\n",
    "import numpy as np\n",
    "import matplotlib.pyplot as plt\n",
    "import datetime\n",
    "import seaborn as sns\n",
    "import math\n",
    "import os\n",
    "\n",
    "from tqdm import tqdm_notebook\n",
    "import scipy.stats\n",
    "from statsmodels import regression\n",
    "import statsmodels.api as sm\n",
    "import pymysql\n",
    "import yfinance"
   ]
  },
  {
   "cell_type": "code",
   "execution_count": null,
   "metadata": {},
   "outputs": [],
   "source": []
  }
 ],
 "metadata": {
  "kernelspec": {
   "display_name": "base",
   "language": "python",
   "name": "python3"
  },
  "language_info": {
   "codemirror_mode": {
    "name": "ipython",
    "version": 3
   },
   "file_extension": ".py",
   "mimetype": "text/x-python",
   "name": "python",
   "nbconvert_exporter": "python",
   "pygments_lexer": "ipython3",
   "version": "3.11.6"
  }
 },
 "nbformat": 4,
 "nbformat_minor": 2
}
