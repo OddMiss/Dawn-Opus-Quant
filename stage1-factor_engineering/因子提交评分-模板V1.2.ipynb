{
 "cells": [
  {
   "cell_type": "markdown",
   "metadata": {},
   "source": [
    "关于各位同学的因子实现如何通过测验，参照这份jupyter文件，将实现的因子和对应的算子在这份文件相应的单元格中添加进来，并运行文件下方的测验代码，输出“通过测验”后，将修改后的文件发给我，我会进行登记。"
   ]
  },
  {
   "cell_type": "code",
   "execution_count": 21,
   "id": "8040b9b4-4075-4dbb-92db-b2d31a3d1e59",
   "metadata": {},
   "outputs": [],
   "source": [
    "from cylib.factor_backtest.factor_exp_engine import (get_needing_basic_factors, \n",
    "                                                    exec_and_eval_exp,\n",
    "                                                    get_list_factors)\n",
    "import tqdm\n",
    "import pandas as pd\n",
    "import numpy as np"
   ]
  },
  {
   "cell_type": "markdown",
   "id": "a0597e0f-842d-4b5a-8895-4d597d95195d",
   "metadata": {
    "tags": []
   },
   "source": [
    "#### 所需提交一：提交因子表达式所需的算子"
   ]
  },
  {
   "cell_type": "code",
   "execution_count": 6,
   "id": "8c55441a-bd4f-42cb-8680-c102a2792eba",
   "metadata": {},
   "outputs": [],
   "source": [
    "# MAX(A, B) - 在A、B中选择最大的数\n",
    "def MAX(A: pd.DataFrame, B: pd.DataFrame) -> pd.DataFrame:\n",
    "    if type(B) == int or float:\n",
    "        max_df = pd.DataFrame(np.maximum(A.values, B), index=A.index, columns=A.columns)\n",
    "    elif type(B) == pd.DataFrame:\n",
    "        max_df = pd.DataFrame(np.maximum(A.values, B.values), index=A.index, columns=A.columns)\n",
    "    return max_df\n",
    "\n",
    "# MIN(A, B) - 在A、B中选择最小的数\n",
    "def MIN(A: pd.DataFrame, B: pd.DataFrame) -> pd.DataFrame:\n",
    "    if type(B) == int or float:\n",
    "        min_df = pd.DataFrame(np.minimum(A.values, B), index=A.index, columns=A.columns)\n",
    "    elif type(B) == pd.DataFrame:\n",
    "        min_df = pd.DataFrame(np.minimum(A.values, B.values), index=A.index, columns=A.columns)\n",
    "    return min_df\n",
    "\n",
    "def ABS(price_df):\n",
    "    return abs(price_df)\n",
    "\n",
    "# SUM(A, n) - 序列A过去n天的求和\n",
    "def SUM(A: pd.DataFrame, n: int) -> pd.DataFrame:\n",
    "    sum_df = A.rolling(window=n).sum()\n",
    "    return sum_df\n",
    "\n",
    "# SIGN(A) - 符号函数\n",
    "def SIGN(A: pd.DataFrame) -> pd.DataFrame:\n",
    "    sign_df = np.sign(A)\n",
    "    return pd.DataFrame(sign_df, index=A.index, columns=A.columns)\n",
    "\n",
    "# CORR(A, B, n) - 序列A、B过去n天的相关系数\n",
    "def CORR(A: pd.DataFrame, B: pd.DataFrame, n: int) -> pd.DataFrame:\n",
    "    corr_df = A.rolling(window=n).corr(other=B)\n",
    "    return corr_df\n",
    "\n",
    "# COVARIANCE(A, B, n) - 序列A、B过去n天的协方差\n",
    "def COVARIANCE(A: pd.DataFrame, B: pd.DataFrame, n: int) -> pd.DataFrame:\n",
    "    cov_df = A.rolling(window=n).cov(other=B)\n",
    "    return cov_df\n",
    "\n",
    "# STD1(A) - 序列A的标准差\n",
    "def STD1(A: pd.DataFrame) -> pd.DataFrame:\n",
    "    std_df = A.std()\n",
    "    return std_df\n",
    "\n",
    "# STD2(A, n) - 序列A过去n天的标准差\n",
    "def STD2(A: pd.DataFrame, n: int) -> pd.DataFrame:\n",
    "    std_df = A.rolling(window=n).std()\n",
    "    return std_df\n",
    "\n",
    "# DELAY(A, n) - A_i-n\n",
    "def DELAY(A: pd.DataFrame, n: int) -> pd.DataFrame:\n",
    "    delay_df = A.shift(n)\n",
    "    return delay_df\n",
    "\n",
    "def DELTA(df, n: int):\n",
    "    df_shift1 = df.shift(n)\n",
    "    return df_shift1 - df\n",
    "\n",
    "def RANK(df):\n",
    "    return df.rank(axis=0)\n",
    "\n",
    "# MEAN(A, n) - 序列A过去n天的均值\n",
    "def MEAN(A: pd.DataFrame, n: int) -> pd.DataFrame:\n",
    "    mean_df = A.rolling(window=n).mean()\n",
    "    return mean_df\n",
    "\n",
    "# COUNT(condition, n) - 计算前n期满足条件condition的样本个数\n",
    "def COUNT(condition: pd.DataFrame, n: int) -> pd.DataFrame:\n",
    "    count_df = condition.rolling(window=n).sum()\n",
    "    return count_df\n",
    "\n",
    "# LOG(A) - 自然对数函数\n",
    "def LOG(A: pd.DataFrame) -> pd.DataFrame:\n",
    "    A.replace(0, np.nan, inplace = True)\n",
    "    log_df = np.log(A)\n",
    "    df = pd.DataFrame(log_df, index=A.index, columns=A.columns)\n",
    "    # df.replace(-np.inf, 0, inplace=True)\n",
    "    return df\n",
    "\n",
    "# TSMAX(A, n) - 序列A过去n天的最大值\n",
    "def TSMAX(A: pd.DataFrame, n: int) -> pd.DataFrame:\n",
    "    tsmax_df = A.rolling(window=n).max()\n",
    "    return tsmax_df\n",
    "\n",
    "# TSRANK(A, n) - 序列A的末位值在过去n天的顺序排位\n",
    "def TSRANK(A: pd.DataFrame, n: int) -> pd.DataFrame:\n",
    "    rank_df = A.rolling(window=n).apply(lambda x: x.rank(method = 'min').iloc[-1])\n",
    "    return rank_df\n",
    "\n",
    "# HIGHDAY(A, n) - 计算A前n期时间序列中最大值距离当前时点的间隔\n",
    "def HIGHDAY(A: pd.DataFrame, n: int) -> pd.DataFrame:\n",
    "    high_day_df = A.rolling(window=n).apply(lambda x: len(x) - np.argmax(x) - 1)\n",
    "    return high_day_df\n",
    "\n",
    "# LOWDAY(A, n) - 计算A前n期时间序列中最小值距离当前时点的间隔\n",
    "def LOWDAY(A: pd.DataFrame, n: int) -> pd.DataFrame:\n",
    "    low_day_df = A.rolling(window=n).apply(lambda x: len(x) - np.argmin(x) - 1)\n",
    "    return low_day_df\n",
    "\n",
    "# DECAYLINEAR(A, d) - 对A序列计算移动平均加权\n",
    "def DECAYLINEAR(A: pd.DataFrame, d: int) -> pd.DataFrame:\n",
    "    weights = np.arange(1, d + 1)/ np.sum(np.arange(1, d + 1))\n",
    "    decay_df = A.rolling(window=d).apply(lambda x: np.dot(x, weights))\n",
    "    return decay_df"
   ]
  },
  {
   "cell_type": "markdown",
   "id": "9251e18b-d20a-4c67-8ce2-6cc5e7106a9e",
   "metadata": {},
   "source": [
    "#### 所需提交二：提交存储因子表达式的字典"
   ]
  },
  {
   "cell_type": "code",
   "execution_count": 18,
   "id": "46b33e3f-7d8a-484d-b121-48f1379a78b0",
   "metadata": {},
   "outputs": [],
   "source": [
    "# 提交因子表达式字典\n",
    "# 因子名字：(因子表达式，所需数据条目)\n",
    "factor_def_dict = \\\n",
    "{'alpha191_022': ('MEAN(((CLOSE_DF-MEAN(CLOSE_DF,6))/MEAN(CLOSE_DF,6)-DELAY((CLOSE_DF-MEAN(CLOSE_DF,6))/MEAN(CLOSE_DF,6),3)),12)', 22),\n",
    "'alpha_01': ('-1 * CORR(RANK(DELTA(LOG(VOLUME_DF), 1)), RANK(((CLOSE_DF - OPEN_DF) / OPEN_DF)), 6)', 22),\n",
    "'alpha_02': ('-1 * DELTA((((CLOSE_DF - LOW_DF) - (HIGH_DF - CLOSE_DF)) / (HIGH_DF - LOW_DF)), 1)', 22),\n",
    "'alpha_06': ('RANK(SIGN(DELTA((((OPEN_DF * 0.85) + (HIGH_DF * 0.15))), 4))) * -1', 22),\n",
    "'alpha_14': ('CLOSE_DF - DELAY(CLOSE_DF, 5)', 22),\n",
    "'alpha_15': ('OPEN_DF / DELAY(CLOSE_DF, 1) - 1', 22),\n",
    "'alpha_18': ('CLOSE_DF / DELAY(CLOSE_DF, 5)', 22),\n",
    "'alpha_20': ('(CLOSE_DF - DELAY(CLOSE_DF, 6)) / DELAY(CLOSE_DF, 6) * 100', 22),\n",
    "'alpha_29': ('(CLOSE_DF - DELAY(CLOSE_DF, 6)) / DELAY(CLOSE_DF, 6) * VOLUME_DF', 22),\n",
    "'alpha_31': ('(CLOSE_DF - MEAN(CLOSE_DF, 12)) / MEAN(CLOSE_DF, 12) * 100', 22),\n",
    "'alpha_32': ('-1 * SUM(RANK(CORR(RANK(HIGH_DF), RANK(VOLUME_DF), 3)), 3)', 22),\n",
    "'alpha_34': ('MEAN(CLOSE_DF, 12) / CLOSE_DF', 22),\n",
    "'alpha_42': ('(-1 * RANK(STD2(HIGH_DF, 10))) * CORR(HIGH_DF, VOLUME_DF, 10)', 22),\n",
    "'alpha_46': ('(MEAN(CLOSE_DF, 3) + MEAN(CLOSE_DF, 6) + MEAN(CLOSE_DF, 12) + MEAN(CLOSE_DF, 24)) / (4 * CLOSE_DF)', 22),\n",
    "'alpha_53': ('COUNT(CLOSE_DF > DELAY(CLOSE_DF, 1), 12) / 12 * 100', 22),\n",
    "'alpha_54': ('-1 * RANK((STD1(ABS(CLOSE_DF - OPEN_DF)) + (CLOSE_DF - OPEN_DF)) + CORR(CLOSE_DF, OPEN_DF, 10))', 22),\n",
    "'alpha_58': ('COUNT(CLOSE_DF > DELAY(CLOSE_DF, 1), 20) / 20 * 100', 22),\n",
    "'alpha_62': ('(-1 * CORR(HIGH_DF, RANK(VOLUME_DF), 5))', 22),\n",
    "'alpha_65': ('MEAN(CLOSE_DF, 6) / CLOSE_DF', 22),\n",
    "'alpha_70': ('STD2(AMOUNT_DF, 6)', 22),\n",
    "'alpha_71': ('(CLOSE_DF - MEAN(CLOSE_DF, 24)) / MEAN(CLOSE_DF, 24) * 100', 22),\n",
    "'alpha_76': ('STD2(ABS((CLOSE_DF / DELAY(CLOSE_DF, 1) - 1)) / VOLUME_DF, 20) / MEAN(ABS((CLOSE_DF / DELAY(CLOSE_DF, 1)-  1)) / VOLUME_DF, 20) ', 22),\n",
    "'alpha_80': ('(VOLUME_DF - DELAY(VOLUME_DF, 5)) / DELAY(VOLUME_DF, 5) * 100', 22),\n",
    "'alpha_88': ('(CLOSE_DF - DELAY(CLOSE_DF, 20)) / DELAY(CLOSE_DF, 20) * 100', 22),\n",
    "'alpha_95': ('STD2(AMOUNT_DF, 20)', 22),\n",
    "'alpha_97': ('STD2(VOLUME_DF, 10)', 22),\n",
    "'alpha_100': ('STD2(VOLUME_DF, 20)', 22),\n",
    "'alpha_103': ('((20 - LOWDAY(LOW_DF, 20)) / 20) * 100', 22),\n",
    "'alpha_104': ('-1 * (DELTA(CORR(HIGH_DF, VOLUME_DF, 5), 5) * RANK(STD2(CLOSE_DF, 20)))', 22),\n",
    "'alpha_105': ('(-1 * CORR(RANK(OPEN_DF), RANK(VOLUME_DF), 10)) ', 22),\n",
    "'alpha_106': ('CLOSE_DF - DELAY(CLOSE_DF, 20)', 22)}"
   ]
  },
  {
   "cell_type": "markdown",
   "id": "97d80e49-1343-4352-bd3c-8d075ffb7c81",
   "metadata": {},
   "source": [
    "#### 运行以下单元格衡量因子整体的覆盖率和IC表现,不要自行修改以下代码"
   ]
  },
  {
   "cell_type": "code",
   "execution_count": 19,
   "metadata": {},
   "outputs": [
    {
     "data": {
      "text/plain": [
       "\"{'alpha191_022': ('MEAN(((CLOSE_DF-MEAN(CLOSE_DF,6))/MEAN(CLOSE_DF,6)-DELAY((CLOSE_DF-MEAN(CLOSE_DF,6))/MEAN(CLOSE_DF,6),3)),12)', 22), 'alpha191_023': ('MEAN(((CLOSE_DF-MEAN(CLOSE_DF,6))/MEAN(CLOSE_DF,6)-DELAY((CLOSE_DF-MEAN(CLOSE_DF,6))/MEAN(CLOSE_DF,6),3)),12)', 22), 'alpha191_024': ('MEAN(((CLOSE_DF-MEAN(CLOSE_DF,6))/MEAN(CLOSE_DF,6)-DELAY((CLOSE_DF-MEAN(HIGH_DF,6))/MEAN(CLOSE_DF,6),3)),12)', 22)}\""
      ]
     },
     "execution_count": 19,
     "metadata": {},
     "output_type": "execute_result"
    }
   ],
   "source": [
    "str(factor_def_dict)"
   ]
  },
  {
   "cell_type": "code",
   "execution_count": 20,
   "metadata": {},
   "outputs": [
    {
     "data": {
      "text/plain": [
       "['close', 'high']"
      ]
     },
     "execution_count": 20,
     "metadata": {},
     "output_type": "execute_result"
    }
   ],
   "source": [
    "basic_factors = get_needing_basic_factors(str(factor_def_dict))\n",
    "basic_factors = [x[:-3].lower() for x in basic_factors]\n",
    "basic_factors"
   ]
  },
  {
   "cell_type": "code",
   "execution_count": 9,
   "id": "8d77a673-741e-4c5d-84c9-acb43e6e2a10",
   "metadata": {},
   "outputs": [],
   "source": [
    "basic_factors = get_needing_basic_factors(str(factor_def_dict))\n",
    "basic_factors = [x[:-3].lower() for x in basic_factors]\n",
    "if 'close' not in basic_factors:\n",
    "    basic_factors.append('close')"
   ]
  },
  {
   "cell_type": "code",
   "execution_count": 22,
   "id": "f4e9a36e",
   "metadata": {},
   "outputs": [],
   "source": [
    "name_lists = ['open', 'close', 'low', 'high', 'amount', 'volume']\n",
    "ori_factor = get_list_factors(name_lists,\n",
    "                              start_date='20220101',\n",
    "                              end_date = '20231230')"
   ]
  },
  {
   "cell_type": "code",
   "execution_count": 23,
   "id": "d921fc2b",
   "metadata": {},
   "outputs": [],
   "source": [
    "ori_factor.to_csv('ori_factor_test.csv')"
   ]
  },
  {
   "cell_type": "code",
   "execution_count": 10,
   "id": "5b037cfd-0cef-4993-84ea-f46c66606f19",
   "metadata": {},
   "outputs": [
    {
     "data": {
      "text/html": [
       "<div>\n",
       "<style scoped>\n",
       "    .dataframe tbody tr th:only-of-type {\n",
       "        vertical-align: middle;\n",
       "    }\n",
       "\n",
       "    .dataframe tbody tr th {\n",
       "        vertical-align: top;\n",
       "    }\n",
       "\n",
       "    .dataframe thead th {\n",
       "        text-align: right;\n",
       "    }\n",
       "</style>\n",
       "<table border=\"1\" class=\"dataframe\">\n",
       "  <thead>\n",
       "    <tr style=\"text-align: right;\">\n",
       "      <th></th>\n",
       "      <th></th>\n",
       "      <th>CLOSE</th>\n",
       "      <th>HIGH</th>\n",
       "      <th>BUY_PRICE</th>\n",
       "      <th>buy_price</th>\n",
       "    </tr>\n",
       "    <tr>\n",
       "      <th>trade_date</th>\n",
       "      <th>ts_code</th>\n",
       "      <th></th>\n",
       "      <th></th>\n",
       "      <th></th>\n",
       "      <th></th>\n",
       "    </tr>\n",
       "  </thead>\n",
       "  <tbody>\n",
       "    <tr>\n",
       "      <th rowspan=\"5\" valign=\"top\">2022-01-04</th>\n",
       "      <th>000001.SZ</th>\n",
       "      <td>16.66</td>\n",
       "      <td>16.66</td>\n",
       "      <td>16.66</td>\n",
       "      <td>16.66</td>\n",
       "    </tr>\n",
       "    <tr>\n",
       "      <th>000002.SZ</th>\n",
       "      <td>20.49</td>\n",
       "      <td>20.65</td>\n",
       "      <td>20.49</td>\n",
       "      <td>20.49</td>\n",
       "    </tr>\n",
       "    <tr>\n",
       "      <th>000004.SZ</th>\n",
       "      <td>19.99</td>\n",
       "      <td>20.15</td>\n",
       "      <td>19.99</td>\n",
       "      <td>19.99</td>\n",
       "    </tr>\n",
       "    <tr>\n",
       "      <th>000005.SZ</th>\n",
       "      <td>2.36</td>\n",
       "      <td>2.36</td>\n",
       "      <td>2.36</td>\n",
       "      <td>2.36</td>\n",
       "    </tr>\n",
       "    <tr>\n",
       "      <th>000006.SZ</th>\n",
       "      <td>4.53</td>\n",
       "      <td>4.55</td>\n",
       "      <td>4.53</td>\n",
       "      <td>4.53</td>\n",
       "    </tr>\n",
       "    <tr>\n",
       "      <th>...</th>\n",
       "      <th>...</th>\n",
       "      <td>...</td>\n",
       "      <td>...</td>\n",
       "      <td>...</td>\n",
       "      <td>...</td>\n",
       "    </tr>\n",
       "    <tr>\n",
       "      <th rowspan=\"5\" valign=\"top\">2023-11-27</th>\n",
       "      <th>688799.SH</th>\n",
       "      <td>44.64</td>\n",
       "      <td>45.50</td>\n",
       "      <td>44.64</td>\n",
       "      <td>44.64</td>\n",
       "    </tr>\n",
       "    <tr>\n",
       "      <th>688800.SH</th>\n",
       "      <td>44.13</td>\n",
       "      <td>44.97</td>\n",
       "      <td>44.13</td>\n",
       "      <td>44.13</td>\n",
       "    </tr>\n",
       "    <tr>\n",
       "      <th>688819.SH</th>\n",
       "      <td>30.37</td>\n",
       "      <td>30.94</td>\n",
       "      <td>30.37</td>\n",
       "      <td>30.37</td>\n",
       "    </tr>\n",
       "    <tr>\n",
       "      <th>688981.SH</th>\n",
       "      <td>54.61</td>\n",
       "      <td>54.79</td>\n",
       "      <td>54.61</td>\n",
       "      <td>54.61</td>\n",
       "    </tr>\n",
       "    <tr>\n",
       "      <th>689009.SH</th>\n",
       "      <td>34.89</td>\n",
       "      <td>35.60</td>\n",
       "      <td>34.89</td>\n",
       "      <td>34.89</td>\n",
       "    </tr>\n",
       "  </tbody>\n",
       "</table>\n",
       "<p>2233398 rows × 4 columns</p>\n",
       "</div>"
      ],
      "text/plain": [
       "                      CLOSE   HIGH  BUY_PRICE  buy_price\n",
       "trade_date ts_code                                      \n",
       "2022-01-04 000001.SZ  16.66  16.66      16.66      16.66\n",
       "           000002.SZ  20.49  20.65      20.49      20.49\n",
       "           000004.SZ  19.99  20.15      19.99      19.99\n",
       "           000005.SZ   2.36   2.36       2.36       2.36\n",
       "           000006.SZ   4.53   4.55       4.53       4.53\n",
       "...                     ...    ...        ...        ...\n",
       "2023-11-27 688799.SH  44.64  45.50      44.64      44.64\n",
       "           688800.SH  44.13  44.97      44.13      44.13\n",
       "           688819.SH  30.37  30.94      30.37      30.37\n",
       "           688981.SH  54.61  54.79      54.61      54.61\n",
       "           689009.SH  34.89  35.60      34.89      34.89\n",
       "\n",
       "[2233398 rows x 4 columns]"
      ]
     },
     "execution_count": 10,
     "metadata": {},
     "output_type": "execute_result"
    }
   ],
   "source": [
    "# ori_factor = get_list_factors(basic_factors, start_date='20220101', end_date = '20231230')\n",
    "ori_factor = pd.read_csv('ori_factor_test.csv',\n",
    "                         parse_dates=['trade_date'],\n",
    "                         index_col=[\"trade_date\", \"ts_code\"])\n",
    "ori_factor.columns = [x.upper() for x in ori_factor.columns]\n",
    "ori_factor = ori_factor.sort_index(ascending=True)\n",
    "ori_factor['buy_price'] = ori_factor['CLOSE']\n",
    "ori_factor"
   ]
  },
  {
   "cell_type": "code",
   "execution_count": 11,
   "metadata": {},
   "outputs": [],
   "source": [
    "# ori_factor.to_csv('ori_factor_test.csv')"
   ]
  },
  {
   "cell_type": "markdown",
   "metadata": {},
   "source": [
    "#### `tqdm.tqdm(factor_def_dict)`\n",
    "In Python, `tqdm` is a library that provides a fast, extensible progress bar for loops and iterable objects. When you wrap an iterable with `tqdm`, it will display a progress bar that shows the completion status of the iterable as it's being processed.\n",
    "\n",
    "The syntax `tqdm.tqdm(factor_def_dict)` suggests that `factor_def_dict` is a dictionary, and by passing it to `tqdm.tqdm()`, you are creating an iterable that will display a progress bar when iterated over. This is useful when you are performing operations on each item in a dictionary and you want to track the progress, especially if the operation is time-consuming.\n",
    "\n",
    "Here's a simple example to illustrate how you might use `tqdm` with a dictionary:\n",
    "\n",
    "```python\n",
    "from tqdm import tqdm\n",
    "\n",
    "# Suppose this is your dictionary\n",
    "factor_def_dict = {\n",
    "    'a': 1,\n",
    "    'b': 2,\n",
    "    'c': 3,\n",
    "    # ... potentially many more items\n",
    "}\n",
    "\n",
    "# Wrap the dictionary's .items() method with tqdm to create a progress bar\n",
    "for key, value in tqdm(factor_def_dict.items()):\n",
    "    # Perform some operation with key and value\n",
    "    print(f\"Processing {key} with value {value}\")\n",
    "    # ... your processing logic here\n",
    "```\n",
    "\n",
    "In the above code, the progress bar will update with each iteration over the `.items()` of the dictionary, giving you a visual indication of how many items have been processed and how many remain.\n",
    "\n",
    "Note that `tqdm` can be used in a variety of ways, not just with dictionaries. It can wrap any iterable, including lists, sets, and generators. Additionally, it has several optional parameters that allow you to customize the appearance and behavior of the progress bar."
   ]
  },
  {
   "cell_type": "code",
   "execution_count": 3,
   "metadata": {},
   "outputs": [
    {
     "name": "stderr",
     "output_type": "stream",
     "text": [
      "100%|███████████████████████████████████████████████████████████████████████████████████████████████████████████████████████████████████████████████████████████████████████████████| 3/3 [00:00<00:00, 24769.51it/s]"
     ]
    },
    {
     "name": "stdout",
     "output_type": "stream",
     "text": [
      "Processing a with value 1\n",
      "Processing b with value 2\n",
      "Processing c with value 3\n"
     ]
    },
    {
     "name": "stderr",
     "output_type": "stream",
     "text": [
      "\n"
     ]
    }
   ],
   "source": [
    "# Suppose this is your dictionary\n",
    "factor_def_dict = {\n",
    "    'a': 1,\n",
    "    'b': 2,\n",
    "    'c': 3,\n",
    "    # ... potentially many more items\n",
    "}\n",
    "\n",
    "# Wrap the dictionary's .items() method with tqdm to create a progress bar\n",
    "for key, value in tqdm.tqdm(factor_def_dict.items()):\n",
    "    # Perform some operation with key and value\n",
    "    print(f\"Processing {key} with value {value}\")\n",
    "    # ... your processing logic here"
   ]
  },
  {
   "cell_type": "code",
   "execution_count": 11,
   "id": "86383064-5400-4543-acd3-400b9dd48568",
   "metadata": {
    "collapsed": true,
    "jupyter": {
     "outputs_hidden": true
    },
    "tags": []
   },
   "outputs": [
    {
     "name": "stderr",
     "output_type": "stream",
     "text": [
      "100%|██████████████████████████████████████████████████████████████████████████████████████████████████████████████████████████████████████████████████████████████████████████████████| 3/3 [02:12<00:00, 44.27s/it]\n"
     ]
    }
   ],
   "source": [
    "from IPython.display import clear_output\n",
    "\n",
    "factor_eval_dict = {}\n",
    "for factor_name in tqdm.tqdm(factor_def_dict):\n",
    "    factor_exp = factor_def_dict[factor_name][0] # type: ignore\n",
    "    factor_need_days = factor_def_dict[factor_name][1] # type: ignore\n",
    "    f, d = exec_and_eval_exp(factor_exp=factor_exp,\n",
    "                            need_days=factor_need_days,\n",
    "                            quantiles=None,\n",
    "                            bins=10,\n",
    "                            original_data=ori_factor,\n",
    "                            max_loss=0.5)\n",
    "    factor_eval_dict[factor_name] = d\n",
    "    clear_output(wait=True)"
   ]
  },
  {
   "cell_type": "code",
   "execution_count": 12,
   "metadata": {},
   "outputs": [
    {
     "data": {
      "text/plain": [
       "{'alpha191_022': {'tot_loss': 0.011874849251938357,\n",
       "  'fwdret_loss': 0.011874849251938357,\n",
       "  'bin_loss': 0.0,\n",
       "  'quantile_stats':                       min       max      mean       std   count    count %\n",
       "  factor_quantile                                                           \n",
       "  1               -0.209784 -0.004911 -0.046663  0.034170    1504   0.071285\n",
       "  2               -0.163690  0.016455 -0.004102  0.014980   12118   0.574359\n",
       "  3               -0.130714  0.037917  0.008321  0.008985  146780   6.956959\n",
       "  4               -0.096418  0.059260  0.013336  0.009659  449198  21.290720\n",
       "  5               -0.068290  0.081165  0.017549  0.011076  664058  31.474479\n",
       "  6               -0.039120  0.105852  0.023415  0.012659  513879  24.356417\n",
       "  7               -0.007890  0.127706  0.029361  0.015021  263307  12.480010\n",
       "  8                0.012258  0.177118  0.047155  0.016329   49296   2.336492\n",
       "  9                0.030119  0.193251  0.068490  0.016408    7646   0.362399\n",
       "  10               0.048422  0.270977  0.094239  0.026771    2044   0.096880,\n",
       "  'returns_table':                                                    1D      3D      5D\n",
       "  Ann. alpha                                     -0.053  -0.082  -0.076\n",
       "  beta                                            0.034   0.069   0.088\n",
       "  Mean Period Wise Return Top Quantile (bps)     18.832  -1.986 -12.612\n",
       "  Mean Period Wise Return Bottom Quantile (bps) -49.552 -36.233 -28.918\n",
       "  Mean Period Wise Spread (bps)                  68.384  33.051  16.794,\n",
       "  'ic_summary_table':                      1D     3D     5D\n",
       "  IC Mean          -0.041 -0.050 -0.053\n",
       "  IC Std.           0.123  0.120  0.128\n",
       "  Risk-Adjusted IC -0.331 -0.415 -0.416\n",
       "  t-stat(IC)       -6.913 -8.658 -8.668\n",
       "  p-value(IC)       0.000  0.000  0.000\n",
       "  IC Skew          -0.172  0.042 -0.013\n",
       "  IC Kurtosis      -0.004 -0.085 -0.126,\n",
       "  'turnover_table':                                1D     3D     5D\n",
       "  Quantile 1 Mean Turnover    0.321  0.781  0.933\n",
       "  Quantile 2 Mean Turnover    0.664  0.917  0.952\n",
       "  Quantile 3 Mean Turnover    0.605  0.837  0.906\n",
       "  Quantile 4 Mean Turnover    0.523  0.728  0.762\n",
       "  Quantile 5 Mean Turnover    0.472  0.654  0.678\n",
       "  Quantile 6 Mean Turnover    0.492  0.687  0.728\n",
       "  Quantile 7 Mean Turnover    0.532  0.752  0.810\n",
       "  Quantile 8 Mean Turnover    0.595  0.836  0.909\n",
       "  Quantile 9 Mean Turnover    0.649  0.902  0.957\n",
       "  Quantile 10 Mean Turnover   0.405  0.874  0.969,\n",
       "  'auto_corr':                                     1D     3D     5D\n",
       "  Mean Factor Rank Autocorrelation  0.91  0.543  0.329},\n",
       " 'alpha191_023': {'tot_loss': 0.011874849251938357,\n",
       "  'fwdret_loss': 0.011874849251938357,\n",
       "  'bin_loss': 0.0,\n",
       "  'quantile_stats':                       min       max      mean       std   count    count %\n",
       "  factor_quantile                                                           \n",
       "  1               -0.209784 -0.004911 -0.046663  0.034170    1504   0.071285\n",
       "  2               -0.163690  0.016455 -0.004102  0.014980   12118   0.574359\n",
       "  3               -0.130714  0.037917  0.008321  0.008985  146780   6.956959\n",
       "  4               -0.096418  0.059260  0.013336  0.009659  449198  21.290720\n",
       "  5               -0.068290  0.081165  0.017549  0.011076  664058  31.474479\n",
       "  6               -0.039120  0.105852  0.023415  0.012659  513879  24.356417\n",
       "  7               -0.007890  0.127706  0.029361  0.015021  263307  12.480010\n",
       "  8                0.012258  0.177118  0.047155  0.016329   49296   2.336492\n",
       "  9                0.030119  0.193251  0.068490  0.016408    7646   0.362399\n",
       "  10               0.048422  0.270977  0.094239  0.026771    2044   0.096880,\n",
       "  'returns_table':                                                    1D      3D      5D\n",
       "  Ann. alpha                                     -0.053  -0.082  -0.076\n",
       "  beta                                            0.034   0.069   0.088\n",
       "  Mean Period Wise Return Top Quantile (bps)     18.832  -1.986 -12.612\n",
       "  Mean Period Wise Return Bottom Quantile (bps) -49.552 -36.233 -28.918\n",
       "  Mean Period Wise Spread (bps)                  68.384  33.051  16.794,\n",
       "  'ic_summary_table':                      1D     3D     5D\n",
       "  IC Mean          -0.041 -0.050 -0.053\n",
       "  IC Std.           0.123  0.120  0.128\n",
       "  Risk-Adjusted IC -0.331 -0.415 -0.416\n",
       "  t-stat(IC)       -6.913 -8.658 -8.668\n",
       "  p-value(IC)       0.000  0.000  0.000\n",
       "  IC Skew          -0.172  0.042 -0.013\n",
       "  IC Kurtosis      -0.004 -0.085 -0.126,\n",
       "  'turnover_table':                                1D     3D     5D\n",
       "  Quantile 1 Mean Turnover    0.321  0.781  0.933\n",
       "  Quantile 2 Mean Turnover    0.664  0.917  0.952\n",
       "  Quantile 3 Mean Turnover    0.605  0.837  0.906\n",
       "  Quantile 4 Mean Turnover    0.523  0.728  0.762\n",
       "  Quantile 5 Mean Turnover    0.472  0.654  0.678\n",
       "  Quantile 6 Mean Turnover    0.492  0.687  0.728\n",
       "  Quantile 7 Mean Turnover    0.532  0.752  0.810\n",
       "  Quantile 8 Mean Turnover    0.595  0.836  0.909\n",
       "  Quantile 9 Mean Turnover    0.649  0.902  0.957\n",
       "  Quantile 10 Mean Turnover   0.405  0.874  0.969,\n",
       "  'auto_corr':                                     1D     3D     5D\n",
       "  Mean Factor Rank Autocorrelation  0.91  0.543  0.329},\n",
       " 'alpha191_024': {'tot_loss': 0.011874849251938357,\n",
       "  'fwdret_loss': 0.011874849251938357,\n",
       "  'bin_loss': 0.0,\n",
       "  'quantile_stats':                       min       max      mean       std   count    count %\n",
       "  factor_quantile                                                           \n",
       "  1               -0.209784 -0.004911 -0.046663  0.034170    1504   0.071285\n",
       "  2               -0.163690  0.016455 -0.004102  0.014980   12118   0.574359\n",
       "  3               -0.130714  0.037917  0.008321  0.008985  146780   6.956959\n",
       "  4               -0.096418  0.059260  0.013336  0.009659  449198  21.290720\n",
       "  5               -0.068290  0.081165  0.017549  0.011076  664058  31.474479\n",
       "  6               -0.039120  0.105852  0.023415  0.012659  513879  24.356417\n",
       "  7               -0.007890  0.127706  0.029361  0.015021  263307  12.480010\n",
       "  8                0.012258  0.177118  0.047155  0.016329   49296   2.336492\n",
       "  9                0.030119  0.193251  0.068490  0.016408    7646   0.362399\n",
       "  10               0.048422  0.270977  0.094239  0.026771    2044   0.096880,\n",
       "  'returns_table':                                                    1D      3D      5D\n",
       "  Ann. alpha                                     -0.053  -0.082  -0.076\n",
       "  beta                                            0.034   0.069   0.088\n",
       "  Mean Period Wise Return Top Quantile (bps)     18.832  -1.986 -12.612\n",
       "  Mean Period Wise Return Bottom Quantile (bps) -49.552 -36.233 -28.918\n",
       "  Mean Period Wise Spread (bps)                  68.384  33.051  16.794,\n",
       "  'ic_summary_table':                      1D     3D     5D\n",
       "  IC Mean          -0.041 -0.050 -0.053\n",
       "  IC Std.           0.123  0.120  0.128\n",
       "  Risk-Adjusted IC -0.331 -0.415 -0.416\n",
       "  t-stat(IC)       -6.913 -8.658 -8.668\n",
       "  p-value(IC)       0.000  0.000  0.000\n",
       "  IC Skew          -0.172  0.042 -0.013\n",
       "  IC Kurtosis      -0.004 -0.085 -0.126,\n",
       "  'turnover_table':                                1D     3D     5D\n",
       "  Quantile 1 Mean Turnover    0.321  0.781  0.933\n",
       "  Quantile 2 Mean Turnover    0.664  0.917  0.952\n",
       "  Quantile 3 Mean Turnover    0.605  0.837  0.906\n",
       "  Quantile 4 Mean Turnover    0.523  0.728  0.762\n",
       "  Quantile 5 Mean Turnover    0.472  0.654  0.678\n",
       "  Quantile 6 Mean Turnover    0.492  0.687  0.728\n",
       "  Quantile 7 Mean Turnover    0.532  0.752  0.810\n",
       "  Quantile 8 Mean Turnover    0.595  0.836  0.909\n",
       "  Quantile 9 Mean Turnover    0.649  0.902  0.957\n",
       "  Quantile 10 Mean Turnover   0.405  0.874  0.969,\n",
       "  'auto_corr':                                     1D     3D     5D\n",
       "  Mean Factor Rank Autocorrelation  0.91  0.543  0.329}}"
      ]
     },
     "execution_count": 12,
     "metadata": {},
     "output_type": "execute_result"
    }
   ],
   "source": [
    "factor_eval_dict"
   ]
  },
  {
   "cell_type": "code",
   "execution_count": 13,
   "id": "5114c1bb-cb9d-4558-995a-8df31eb1bf62",
   "metadata": {},
   "outputs": [
    {
     "name": "stderr",
     "output_type": "stream",
     "text": [
      "100%|████████████████████████████████████████████████████████████████████████████████████████████████████████████████████████████████████████████████████████████████████████████████| 3/3 [00:00<00:00, 2004.93it/s]\n"
     ]
    }
   ],
   "source": [
    "factor_score_list = []\n",
    "for factor_name in tqdm.tqdm(factor_def_dict):\n",
    "    tot_loss = factor_eval_dict[factor_name]['tot_loss']\n",
    "    loss_score = 1 if tot_loss < 0.1 else 0   #因子覆盖率需要大于90%\n",
    "    ic_score = abs(factor_eval_dict[factor_name]['ic_summary_table'].loc['IC Mean', :]).mean()  #因子IC\n",
    "    factor_score = loss_score * ic_score\n",
    "    factor_score_list.append(factor_score)"
   ]
  },
  {
   "cell_type": "code",
   "execution_count": 14,
   "metadata": {},
   "outputs": [
    {
     "data": {
      "text/plain": [
       "[0.047999999999999994, 0.047999999999999994, 0.047999999999999994]"
      ]
     },
     "execution_count": 14,
     "metadata": {},
     "output_type": "execute_result"
    }
   ],
   "source": [
    "factor_score_list"
   ]
  },
  {
   "cell_type": "code",
   "execution_count": 16,
   "metadata": {},
   "outputs": [
    {
     "data": {
      "text/plain": [
       "0.0048"
      ]
     },
     "execution_count": 16,
     "metadata": {},
     "output_type": "execute_result"
    }
   ],
   "source": [
    "eval_value = sum(factor_score_list)/(len(factor_def_dict) if len(factor_def_dict) > 30 else 30)\n",
    "eval_value"
   ]
  },
  {
   "cell_type": "code",
   "execution_count": 8,
   "id": "3d614ccb-bb51-4f4c-ad2a-f1b8d4ffd511",
   "metadata": {},
   "outputs": [
    {
     "name": "stdout",
     "output_type": "stream",
     "text": [
      "你提交的因子表达式字典不符合测验要求！\n",
      "你提交的因子数量： 3\n",
      "因子的IC均值： 0.047999999999999994\n"
     ]
    }
   ],
   "source": [
    "if sum(factor_score_list) / (len(factor_def_dict) if len(factor_def_dict) > 30 else 30) > 0.015:\n",
    "    print('你提交的因子表达式字典符合测验要求！')\n",
    "    print('你提交的因子数量：', len(factor_score_list))\n",
    "    print('因子的IC均值：', sum(factor_score_list) / len(factor_score_list))\n",
    "else:\n",
    "    print('你提交的因子表达式字典不符合测验要求！')\n",
    "    print('你提交的因子数量：', len(factor_score_list))\n",
    "    print('因子的IC均值：', sum(factor_score_list) / len(factor_score_list))"
   ]
  }
 ],
 "metadata": {
  "kernelspec": {
   "display_name": "Python 3 (ipykernel)",
   "language": "python",
   "name": "python3"
  }
 },
 "nbformat": 4,
 "nbformat_minor": 5
}
