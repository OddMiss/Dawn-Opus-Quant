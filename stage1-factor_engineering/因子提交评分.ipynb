{
 "cells": [
  {
   "cell_type": "markdown",
   "metadata": {},
   "source": [
    "关于各位同学的因子实现如何通过测验，参照这份jupyter文件，将实现的因子和对应的算子在这份文件相应的单元格中添加进来，并运行文件下方的测验代码，输出“通过测验”后，将修改后的文件发给我，我会进行登记。"
   ]
  },
  {
   "attachments": {
    "a15ff7db32e0232eee9dfda0234aa5a.png": {
     "image/png": "[encoded data removed]"
    }
   },
   "cell_type": "markdown",
   "metadata": {},
   "source": [
    "![a15ff7db32e0232eee9dfda0234aa5a.png](attachment:a15ff7db32e0232eee9dfda0234aa5a.png)"
   ]
  },
  {
   "cell_type": "code",
   "execution_count": 1,
   "id": "8040b9b4-4075-4dbb-92db-b2d31a3d1e59",
   "metadata": {},
   "outputs": [],
   "source": [
    "from cylib.factor_backtest.factor_exp_engine import *\n",
    "import tqdm"
   ]
  },
  {
   "cell_type": "markdown",
   "id": "a0597e0f-842d-4b5a-8895-4d597d95195d",
   "metadata": {
    "tags": []
   },
   "source": [
    "#### 所需提交一：提交因子表达式所需的算子"
   ]
  },
  {
   "cell_type": "code",
   "execution_count": 2,
   "id": "8c55441a-bd4f-42cb-8680-c102a2792eba",
   "metadata": {},
   "outputs": [],
   "source": [
    "import pandas as pd\n",
    "import numpy as np\n",
    "\n",
    "def ABS(price_df):\n",
    "    return abs(price_df)\n",
    "\n",
    "# CORR(A, B, n) - 序列A、B过去n天的相关系数\n",
    "def CORR(A: pd.DataFrame, B: pd.DataFrame, n: int) -> pd.DataFrame:\n",
    "    corr_df = A.rolling(window=n).corr(other=B)\n",
    "    return corr_df\n",
    "\n",
    "# DELAY(A, n) - A_i-n\n",
    "def DELAY(A: pd.DataFrame, n: int) -> pd.DataFrame:\n",
    "    delay_df = A.shift(n)\n",
    "    return delay_df\n",
    "\n",
    "# MEAN(A, n) - 序列A过去n天的均值\n",
    "def MEAN(A: pd.DataFrame, n: int) -> pd.DataFrame:\n",
    "    mean_df = A.rolling(window=n).mean()\n",
    "    return mean_df"
   ]
  },
  {
   "cell_type": "markdown",
   "id": "9251e18b-d20a-4c67-8ce2-6cc5e7106a9e",
   "metadata": {},
   "source": [
    "#### 所需提交二：提交存储因子表达式的字典"
   ]
  },
  {
   "cell_type": "code",
   "execution_count": 16,
   "id": "46b33e3f-7d8a-484d-b121-48f1379a78b0",
   "metadata": {},
   "outputs": [],
   "source": [
    "# 提交因子表达式字典\n",
    "# 因子名字：(因子表达式，所需数据条目)\n",
    "factor_def_dict = { 'alpha191_022':('MEAN(((CLOSE_DF-MEAN(CLOSE_DF,6))/MEAN(CLOSE_DF,6)-DELAY((CLOSE_DF-MEAN(CLOSE_DF,6))/MEAN(CLOSE_DF,6),3)),12)',22),\n",
    "                  'alpha191_023':('MEAN(((CLOSE_DF-MEAN(CLOSE_DF,6))/MEAN(CLOSE_DF,6)-DELAY((CLOSE_DF-MEAN(CLOSE_DF,6))/MEAN(CLOSE_DF,6),3)),12)',22),\n",
    "                  'alpha191_024':('MEAN(((CLOSE_DF-MEAN(CLOSE_DF,6))/MEAN(CLOSE_DF,6)-DELAY((CLOSE_DF-MEAN(CLOSE_DF,6))/MEAN(CLOSE_DF,6),3)),12)',22)}"
   ]
  },
  {
   "cell_type": "markdown",
   "id": "97d80e49-1343-4352-bd3c-8d075ffb7c81",
   "metadata": {},
   "source": [
    "##### 运行以下单元格衡量因子整体的覆盖率和IC表现,不要自行修改以下代码"
   ]
  },
  {
   "cell_type": "code",
   "execution_count": 43,
   "id": "8d77a673-741e-4c5d-84c9-acb43e6e2a10",
   "metadata": {},
   "outputs": [],
   "source": [
    "basic_factors = get_needing_basic_factors(str(factor_def_dict))\n",
    "basic_factors = [x[:-3].lower() for x in basic_factors]"
   ]
  },
  {
   "cell_type": "code",
   "execution_count": 44,
   "id": "5b037cfd-0cef-4993-84ea-f46c66606f19",
   "metadata": {},
   "outputs": [
    {
     "name": "stdout",
     "output_type": "stream",
     "text": [
      "CPU times: user 2.34 s, sys: 413 ms, total: 2.75 s\n",
      "Wall time: 2.9 s\n"
     ]
    }
   ],
   "source": [
    "%%time\n",
    "ori_factor = get_list_factors(basic_factors,start_date='20220101',end_date = '20231230')\n",
    "ori_factor.columns = [x.upper() for x in ori_factor.columns]\n",
    "ori_factor = ori_factor.sort_index(ascending=True)\n",
    "ori_factor['buy_price'] = ori_factor['CLOSE']"
   ]
  },
  {
   "cell_type": "code",
   "execution_count": null,
   "id": "86383064-5400-4543-acd3-400b9dd48568",
   "metadata": {
    "tags": []
   },
   "outputs": [],
   "source": [
    "from IPython.display import clear_output\n",
    "\n",
    "factor_eval_dict = {}\n",
    "for factor_name in tqdm.tqdm(factor_def_dict):\n",
    "    factor_exp = factor_def_dict[factor_name][0]\n",
    "    factor_need_days = factor_def_dict[factor_name][1]\n",
    "    f,d = exec_and_eval_exp(factor_exp=factor_exp,need_days=factor_need_days,\n",
    "    quantiles=None,bins=10,original_data=ori_factor,max_loss=0.5)\n",
    "    factor_eval_dict[factor_name] = d\n",
    "    clear_output(wait=True)"
   ]
  },
  {
   "cell_type": "code",
   "execution_count": null,
   "id": "5114c1bb-cb9d-4558-995a-8df31eb1bf62",
   "metadata": {},
   "outputs": [],
   "source": [
    "factor_score_list = []\n",
    "for factor_name in tqdm.tqdm(factor_def_dict):\n",
    "    tot_loss = factor_eval_dict['alpha191_022']['tot_loss']\n",
    "    loss_score = 1 if tot_loss<0.1 else 0   #因子覆盖率需要大于90%\n",
    "    ic_score = abs(factor_eval_dict['alpha191_022']['ic_summary_table'].loc['IC Mean',:]).mean()  #因子IC\n",
    "    factor_score = loss_score*ic_score\n",
    "    factor_score_list.append(factor_score)"
   ]
  },
  {
   "cell_type": "code",
   "execution_count": 60,
   "id": "3d614ccb-bb51-4f4c-ad2a-f1b8d4ffd511",
   "metadata": {},
   "outputs": [
    {
     "name": "stdout",
     "output_type": "stream",
     "text": [
      "你提交的因子表达式字典不符合测验要求！\n",
      "你提交的因子数量： 3\n",
      "因子的IC均值： 0.017\n"
     ]
    }
   ],
   "source": [
    "if sum(factor_score_list)/(len(factor_def_dict) if len(factor_def_dict)>30 else 30) > 0.015:\n",
    "    print('你提交的因子表达式字典符合测验要求！')\n",
    "    print('你提交的因子数量：',len(factor_score_list))\n",
    "    print('因子的IC均值：',sum(factor_score_list)/len(factor_score_list))\n",
    "else:\n",
    "    print('你提交的因子表达式字典不符合测验要求！')\n",
    "    print('你提交的因子数量：',len(factor_score_list))\n",
    "    print('因子的IC均值：',sum(factor_score_list)/len(factor_score_list))"
   ]
  }
 ],
 "metadata": {
  "kernelspec": {
   "display_name": "Python 3 (ipykernel)",
   "language": "python",
   "name": "python3"
  }
 },
 "nbformat": 4,
 "nbformat_minor": 5
}
