{
 "cells": [
  {
   "cell_type": "code",
   "execution_count": 1,
   "metadata": {},
   "outputs": [],
   "source": [
    "import tensorflow as tf"
   ]
  },
  {
   "cell_type": "markdown",
   "metadata": {},
   "source": [
    "1. `inputs = tf.random.normal([32, 10, 8])`: This line generates a random tensor of shape (32, 10, 8) using TensorFlow's random normal function. This tensor represents a batch of 32 sequences, each of length 10, and each element having a size of 8.\n",
    "\n",
    "2. `gru = tf.keras.layers.GRU(4)`: This line creates a GRU (Gated Recurrent Unit) layer with 4 units. GRU is a type of recurrent neural network (RNN) layer that is commonly used for sequential data processing tasks.\n",
    "> The parameter `4` in `GRU(4)` specifies the number of units or neurons in the GRU layer. In this case, the GRU layer has 4 units, which means it will have 4 internal memory cells to process the input sequences and capture the relevant information. \n",
    "> The number of units in the GRU layer is a hyperparameter that can be adjusted based on the complexity of the task and the amount of information the model needs to capture. Having more units can potentially allow the model to learn more complex patterns in the data, but it also increases the computational cost and the risk of overfitting.\n",
    "> Choosing the right number of units for the GRU layer often involves experimentation and tuning to find the balance between model complexity and performance on the task at hand.\n",
    "\n",
    "3. `output = gru(inputs)`: This line passes the `inputs` tensor through the GRU layer, which processes the sequences in the batch. The GRU layer will output a tensor representing the hidden state of the GRU at the last time step of each sequence in the batch.\n",
    "\n",
    "4. `print(output.shape)`: This line prints the shape of the `output` tensor. In this case, the shape would be (32, 4) because we have a batch size of 32 sequences, and each sequence is represented by a hidden state tensor of size 4 after passing through the GRU layer.\n",
    "\n",
    "Overall, this code snippet demonstrates how to create a random input tensor, pass it through a GRU layer, and obtain the output tensor representing the hidden states of the GRU at the last time step of each sequence in the batch."
   ]
  },
  {
   "cell_type": "markdown",
   "metadata": {},
   "source": [
    "<center>How does the input data feed into the GRU?</center>\n",
    "\n",
    "In the code snippet provided, the input data `inputs` is a tensor of shape (32, 10, 8), where:\n",
    "- 32 represents the batch size (number of sequences in the batch)\n",
    "- 10 represents the sequence length (number of time steps in each sequence)\n",
    "- 8 represents the dimensionality of each element in the sequence\n",
    "\n",
    "When you pass this input tensor through the GRU layer (`gru(inputs)`), the GRU model processes each sequence in the batch one time step at a time. Here's a high-level overview of how the input data feeds into the GRU model:\n",
    "\n",
    "1. At each time step (from t=1 to t=10 in this case), the GRU layer processes the input data for all sequences in the batch simultaneously.\n",
    "2. For each time step, the GRU layer computes the hidden state based on the input data and the previous hidden state.\n",
    "3. The hidden state at the last time step (t=10) is returned as the output of the GRU layer for each sequence in the batch.\n",
    "\n",
    "In summary, the input data is fed into the GRU model sequentially, with the model updating its internal state at each time step based on the input data and the previous internal state. After processing all time steps in the sequence, the output is the hidden state representation of the last time step for each sequence in the batch."
   ]
  },
  {
   "cell_type": "markdown",
   "metadata": {},
   "source": [
    "Here's a simplified example illustrating how the input data `tf.random.normal([32, 10, 8])` can be processed by a GRU layer with 4 units:\n",
    "\n",
    "1. **Input Data**: The input data has the shape `[32, 10, 8]`, where:\n",
    "   - 32 is the batch size (number of sequences in a batch)\n",
    "   - 10 is the sequence length (number of time steps in each sequence)\n",
    "   - 8 is the dimensionality of each time step in the sequence\n",
    "\n",
    "2. **GRU Layer with 4 Units**:\n",
    "   - Each unit in the GRU layer processes a subset of the input data independently.\n",
    "   - The input data is divided into 4 parts, with each part corresponding to one of the 4 units in the layer.\n",
    "\n",
    "> In a GRU layer with 4 units, the input data is divided into 4 parts, with each part corresponding to one of the 4 units in the layer. This division allows each unit to process a distinct subset of the input data independently. Here's a more detailed explanation of how the input data is divided into 4 parts for processing by the 4 units in the GRU layer:\n",
    "> 1. **Input Data Shape**: Let's consider the input data `tf.random.normal([32, 10, 8])`, where:\n",
    ">    - 32 is the batch size (number of sequences in a batch)\n",
    ">    - 10 is the sequence length (number of time steps in each sequence)\n",
    ">    - 8 is the dimensionality of each time step in the sequence\n",
    "> \n",
    "> 2. **Division of Input Data**:\n",
    ">    - The input data is divided along the dimension of the sequence length (10 in this case) into 4 equal parts, with each part corresponding to one of the 4 units in the GRU layer.\n",
    ">    - Each part consists of a fraction of the total time steps in the sequences.\n",
    "> \n",
    "> 3. **Specific Division**:\n",
    ">    - For the input data `tf.random.normal([32, 10, 8])`, each of the 4 units in the GRU layer would process a subset of the input data as follows:\n",
    ">      - Unit 1: Processes the input data for the first 2 time steps (10/4 = 2.5, rounded to 2).\n",
    ">      - Unit 2: Processes the input data for the next 2 time steps (from time step 3 to 4).\n",
    ">      - Unit 3: Processes the input data for the next 3 time steps (from time step 5 to 7).\n",
    ">      - Unit 4: Processes the input data for the remaining 3 time steps (from time step 8 to 10).\n",
    "> \n",
    "> 4. **Parallel Processing**:\n",
    ">    - Each unit operates independently on its designated subset of the input data, processing the sequences in parallel with the other units.\n",
    ">    - The hidden states computed by each unit are then combined to form the final hidden state representation for the entire sequence.\n",
    "> \n",
    "> By dividing the input data into 4 parts, each corresponding to one of the 4 units in the GRU layer, the model can effectively leverage parallel processing to capture different aspects of the input sequences and learn complex patterns in the data.\n",
    "\n",
    "3. **Forward Pass**:\n",
    "   - The input data `tf.random.normal([32, 10, 8])` is passed through the GRU layer with 4 units.\n",
    "   - At each time step, each unit computes its hidden state representation based on its designated subset of the input data and the previous hidden state.\n",
    "\n",
    "4. **Parallel Processing**:\n",
    "   - The 4 units in the GRU layer operate in parallel, processing their respective parts of the input data simultaneously.\n",
    "   - Each unit independently updates its hidden state representation based on its portion of the input sequences.\n",
    "\n",
    "5. **Output**:\n",
    "   - The final hidden state representations computed by the 4 units are combined to form the output of the GRU layer for the given input data.\n",
    "   - The output can then be passed to subsequent layers for further processing or used for making predictions.\n",
    "\n",
    "Please note that this is a simplified explanation of how the input data `tf.random.normal([32, 10, 8])` could be processed by a GRU layer with 4 units. In practice, the computations involve more complex operations and interactions between the units, but this overview gives a general idea of the process."
   ]
  },
  {
   "cell_type": "code",
   "execution_count": 2,
   "metadata": {},
   "outputs": [
    {
     "name": "stdout",
     "output_type": "stream",
     "text": [
      "(32, 4)\n"
     ]
    }
   ],
   "source": [
    "inputs = tf.random.normal([32, 10, 8])\n",
    "gru = tf.keras.layers.GRU(4)\n",
    "output = gru(inputs)\n",
    "print(output.shape)"
   ]
  },
  {
   "cell_type": "code",
   "execution_count": 3,
   "metadata": {},
   "outputs": [
    {
     "data": {
      "text/plain": [
       "<tf.Tensor: shape=(32, 10, 8), dtype=float32, numpy=\n",
       "array([[[ 0.21965404, -1.3149123 ,  0.9665162 , ...,  0.60231376,\n",
       "          0.26646703, -1.0065709 ],\n",
       "        [-0.03885809,  0.8038244 , -0.2469893 , ...,  0.04759102,\n",
       "         -0.78039145, -0.5393251 ],\n",
       "        [-1.4492285 , -1.0541879 ,  0.9596544 , ..., -0.0109489 ,\n",
       "          0.3527075 , -1.3193474 ],\n",
       "        ...,\n",
       "        [ 0.53111386, -0.30468473, -0.47459322, ..., -0.59998155,\n",
       "          0.30247822,  1.79776   ],\n",
       "        [-0.30635884,  1.3954835 , -0.8818199 , ...,  1.3208715 ,\n",
       "         -0.81590676, -0.35987934],\n",
       "        [ 0.93399477, -0.69788843, -1.401877  , ...,  0.41539347,\n",
       "         -1.8663144 , -2.5270748 ]],\n",
       "\n",
       "       [[ 1.059107  ,  0.48970458,  0.77096313, ..., -0.29449633,\n",
       "          0.69591004, -0.8289137 ],\n",
       "        [-0.04876366, -0.6832937 , -1.5274205 , ...,  0.36071023,\n",
       "          1.1098493 ,  0.70215356],\n",
       "        [-0.02982528, -0.3876045 , -0.9181494 , ...,  0.26170388,\n",
       "         -0.60236835,  0.85426104],\n",
       "        ...,\n",
       "        [-0.07903212,  1.6978836 ,  0.66147363, ..., -0.02706231,\n",
       "          0.7747851 , -0.4150175 ],\n",
       "        [-0.34318155, -1.7969892 , -0.17638467, ..., -0.34132537,\n",
       "          0.65612394,  0.48493177],\n",
       "        [-0.03174791, -0.6149789 ,  0.9827542 , ..., -1.6890144 ,\n",
       "          0.5691619 ,  0.8564595 ]],\n",
       "\n",
       "       [[-0.7066381 , -2.411795  ,  0.3209244 , ...,  1.9217923 ,\n",
       "         -0.58637244, -0.00788195],\n",
       "        [-0.39174652, -0.5706843 ,  0.9623376 , ..., -0.3025678 ,\n",
       "          0.05297988,  0.48669484],\n",
       "        [ 1.0367202 , -0.79751945, -0.84958833, ..., -0.63841045,\n",
       "          1.6500442 , -1.2994305 ],\n",
       "        ...,\n",
       "        [ 0.70283765, -0.90429395, -0.16391864, ...,  0.12783003,\n",
       "          2.0790923 ,  1.6937425 ],\n",
       "        [ 0.8579984 ,  0.03135804,  3.0616572 , ...,  1.2843008 ,\n",
       "         -1.9813459 , -0.8082802 ],\n",
       "        [ 0.60031736,  0.2584073 ,  0.04912683, ..., -0.69768757,\n",
       "          0.05775588, -0.8676455 ]],\n",
       "\n",
       "       ...,\n",
       "\n",
       "       [[-0.66038203,  1.9493575 , -0.67185444, ...,  0.7333596 ,\n",
       "         -0.2810043 , -1.3348635 ],\n",
       "        [ 0.58731455, -0.6790489 ,  0.15489864, ...,  0.48252088,\n",
       "          1.8010292 , -0.9580423 ],\n",
       "        [-2.2044985 ,  0.96707875,  1.9471751 , ...,  0.5973551 ,\n",
       "          0.5225725 ,  0.31327274],\n",
       "        ...,\n",
       "        [ 0.4818989 ,  1.1209168 , -0.8861321 , ..., -0.9583165 ,\n",
       "         -0.6897349 , -0.05300282],\n",
       "        [ 0.94146264, -1.5508507 ,  0.7675004 , ...,  1.0727439 ,\n",
       "          0.24589962,  0.5556369 ],\n",
       "        [ 1.6129066 , -1.824587  ,  1.5417463 , ...,  0.35875052,\n",
       "          0.25578445, -0.675028  ]],\n",
       "\n",
       "       [[-1.2707487 , -0.89101624, -0.97483337, ...,  0.19402388,\n",
       "          2.209864  , -0.19008194],\n",
       "        [-0.7673621 , -0.46124882,  0.37384725, ..., -1.0923389 ,\n",
       "          2.6278715 ,  0.82643235],\n",
       "        [ 0.29691237,  0.39553678, -0.382302  , ..., -0.96399236,\n",
       "         -0.733158  ,  0.958584  ],\n",
       "        ...,\n",
       "        [ 0.24176376,  0.7292317 ,  1.5302987 , ...,  1.091289  ,\n",
       "         -0.47581956, -2.4478645 ],\n",
       "        [ 0.7123543 ,  1.072714  ,  0.12981856, ..., -1.0448151 ,\n",
       "          0.43349552, -0.18070273],\n",
       "        [-0.32635903, -0.1390899 ,  0.912078  , ..., -0.03973477,\n",
       "          0.20488125, -0.03819701]],\n",
       "\n",
       "       [[ 0.72611946, -0.19984342,  0.27760747, ...,  0.03278713,\n",
       "          0.6238525 , -0.0407321 ],\n",
       "        [ 1.423139  ,  0.8028603 , -0.43743256, ...,  0.35081214,\n",
       "         -1.3260945 , -0.67217755],\n",
       "        [-0.6353484 ,  1.1811016 ,  0.6676411 , ...,  0.08446562,\n",
       "         -1.2216276 , -0.7052602 ],\n",
       "        ...,\n",
       "        [-3.273965  ,  1.5126483 , -0.44866833, ..., -0.71442735,\n",
       "          1.0778874 , -0.02067563],\n",
       "        [-0.3747642 , -0.2096085 ,  0.48621446, ...,  0.12306395,\n",
       "         -0.44155732,  0.45741338],\n",
       "        [ 0.24982792, -0.08186485, -0.00552916, ...,  1.3438381 ,\n",
       "         -1.0401413 ,  1.9195163 ]]], dtype=float32)>"
      ]
     },
     "execution_count": 3,
     "metadata": {},
     "output_type": "execute_result"
    }
   ],
   "source": [
    "inputs"
   ]
  },
  {
   "cell_type": "code",
   "execution_count": 4,
   "metadata": {},
   "outputs": [
    {
     "data": {
      "text/plain": [
       "<keras.src.layers.rnn.gru.GRU at 0x1dcb8b39dd0>"
      ]
     },
     "execution_count": 4,
     "metadata": {},
     "output_type": "execute_result"
    }
   ],
   "source": [
    "gru"
   ]
  },
  {
   "cell_type": "code",
   "execution_count": 5,
   "metadata": {},
   "outputs": [
    {
     "data": {
      "text/plain": [
       "<tf.Tensor: shape=(32, 4), dtype=float32, numpy=\n",
       "array([[-0.3627813 ,  0.69093865, -0.53707063, -0.75973415],\n",
       "       [ 0.39169025, -0.16205297, -0.17241713,  0.2148028 ],\n",
       "       [ 0.24880758, -0.10625593,  0.27151048, -0.06682596],\n",
       "       [ 0.19568643,  0.13856548, -0.5294874 , -0.3089172 ],\n",
       "       [-0.0429699 ,  0.07234074, -0.7906156 , -0.38272437],\n",
       "       [ 0.24294293, -0.25318116,  0.37814635, -0.17099309],\n",
       "       [ 0.4928693 , -0.02060735,  0.47718117,  0.14506125],\n",
       "       [ 0.620885  ,  0.617676  , -0.67958665,  0.43478486],\n",
       "       [ 0.18671927, -0.31708294, -0.1943799 ,  0.2895378 ],\n",
       "       [-0.41144738,  0.43462422, -0.58206195,  0.36816847],\n",
       "       [-0.01702052,  0.51027626, -0.14577723,  0.00659826],\n",
       "       [-0.37202728, -0.16022335,  0.07170804, -0.5907116 ],\n",
       "       [ 0.39301887,  0.25011557,  0.05330592,  0.25606197],\n",
       "       [ 0.5017251 , -0.20202574, -0.14902991,  0.19253486],\n",
       "       [-0.01178361,  0.65690106, -0.69206107,  0.444513  ],\n",
       "       [ 0.29591358, -0.3657691 , -0.7044137 ,  0.14470711],\n",
       "       [-0.01532267, -0.15846117, -0.53981125, -0.8020027 ],\n",
       "       [-0.25338852,  0.13399246,  0.42770866, -0.20049511],\n",
       "       [ 0.3235589 ,  0.5282644 , -0.4014515 ,  0.01428644],\n",
       "       [ 0.13438797, -0.05356073,  0.39642963, -0.23964678],\n",
       "       [-0.07848664, -0.03188075,  0.5306525 , -0.40170836],\n",
       "       [-0.00224236, -0.23835167,  0.39681876,  0.18582015],\n",
       "       [-0.25158525,  0.31984282,  0.38535473, -0.28953755],\n",
       "       [-0.11802097,  0.21436667, -0.5514586 ,  0.22611654],\n",
       "       [ 0.4513678 , -0.26322132,  0.10362357,  0.3451258 ],\n",
       "       [ 0.00124721,  0.39279163, -0.57615656,  0.42982617],\n",
       "       [ 0.10686898, -0.0499552 ,  0.19400288, -0.33187455],\n",
       "       [ 0.52871555, -0.22719935, -0.25228816,  0.33810508],\n",
       "       [ 0.25914943, -0.13996606, -0.02961165,  0.13458925],\n",
       "       [ 0.26981556, -0.24244261,  0.3719686 , -0.08005698],\n",
       "       [-0.07682581, -0.40473616,  0.10551479, -0.0900759 ],\n",
       "       [-0.18785714,  0.11561778,  0.58477527,  0.06712157]],\n",
       "      dtype=float32)>"
      ]
     },
     "execution_count": 5,
     "metadata": {},
     "output_type": "execute_result"
    }
   ],
   "source": [
    "output"
   ]
  },
  {
   "cell_type": "code",
   "execution_count": 6,
   "metadata": {},
   "outputs": [
    {
     "data": {
      "text/plain": [
       "<tf.Tensor: shape=(3, 4, 5), dtype=float32, numpy=\n",
       "array([[[ 1.5320301 , -0.4448777 , -0.81972337, -1.5041904 ,\n",
       "         -1.5219595 ],\n",
       "        [-0.6152243 ,  0.7446809 ,  1.0016972 ,  1.3756726 ,\n",
       "         -0.9304412 ],\n",
       "        [-0.43924373, -0.48340687, -3.326001  , -0.7479902 ,\n",
       "          1.5225252 ],\n",
       "        [ 1.7320431 , -0.31307432,  0.69539666, -0.41776228,\n",
       "         -0.9590538 ]],\n",
       "\n",
       "       [[-0.805308  , -0.50559485, -0.5382783 , -1.0998741 ,\n",
       "          0.27838704],\n",
       "        [-0.22222042, -0.55693555, -0.19419701,  1.035694  ,\n",
       "          1.1288193 ],\n",
       "        [ 1.6084821 , -1.221129  ,  0.4077867 ,  0.72883713,\n",
       "          2.1003952 ],\n",
       "        [ 1.8842139 , -0.3113245 ,  0.05177866, -2.3831818 ,\n",
       "         -0.39030585]],\n",
       "\n",
       "       [[ 0.21779189,  2.1166914 , -0.83086056, -0.46480185,\n",
       "          0.7052748 ],\n",
       "        [-0.51654005,  0.05538919,  1.4939992 , -0.13357215,\n",
       "         -1.5404441 ],\n",
       "        [-0.8381838 ,  0.66016483, -0.8423919 , -0.00472866,\n",
       "         -1.4337054 ],\n",
       "        [ 1.719336  , -0.4699151 ,  1.5203478 ,  1.1145989 ,\n",
       "          0.24207777]]], dtype=float32)>"
      ]
     },
     "execution_count": 6,
     "metadata": {},
     "output_type": "execute_result"
    }
   ],
   "source": [
    "tf.random.normal([3, 4, 5]) # batch, sequence, element"
   ]
  },
  {
   "cell_type": "code",
   "execution_count": null,
   "metadata": {},
   "outputs": [],
   "source": [
    "# gru = tf.keras.layers.GRU(4, return_sequences=True, return_state=True)\n",
    "# whole_sequence_output, final_state = gru(inputs)\n",
    "# print(whole_sequence_output.shape)\n",
    "\n",
    "# print(final_state.shape)"
   ]
  }
 ],
 "metadata": {
  "kernelspec": {
   "display_name": "base",
   "language": "python",
   "name": "python3"
  },
  "language_info": {
   "codemirror_mode": {
    "name": "ipython",
    "version": 3
   },
   "file_extension": ".py",
   "mimetype": "text/x-python",
   "name": "python",
   "nbconvert_exporter": "python",
   "pygments_lexer": "ipython3",
   "version": "3.11.6"
  }
 },
 "nbformat": 4,
 "nbformat_minor": 2
}
