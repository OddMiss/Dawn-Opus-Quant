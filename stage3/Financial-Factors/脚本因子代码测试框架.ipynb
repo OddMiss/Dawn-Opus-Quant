{
 "cells": [
  {
   "cell_type": "markdown",
   "id": "c9932412-974e-4a0d-9a05-a2faf69e00cb",
   "metadata": {},
   "source": [
    "# 脚本框架："
   ]
  },
  {
   "cell_type": "code",
   "execution_count": null,
   "id": "af864c67-a30f-432b-aeff-504fe715a627",
   "metadata": {},
   "outputs": [],
   "source": [
    "start_date = \"20150101\"  # 设置全量计算时的开始时间\n",
    "trade_date = \"20240101\"  # 每天的日期\n",
    "common_param = {}  # 共有自定义参数\n",
    "\n",
    "def DIY_FACTOR1_SCRIPT(trade_date, common_param, increment=True, start_date=\"20150101\"):\n",
    "    if increment == True:\n",
    "        NEW_DATA_DF = calc_new_factor()\n",
    "        # 你的因子增量计算代码\n",
    "        return NEW_DATA_DF  # 返回trade_date这天新增的因子数据\n",
    "    else:\n",
    "        ALL_DATA_DF = calc_all_factor()\n",
    "        # 你的因子全量计算代码\n",
    "        return ALL_DATA_DF  # 返回截止到trade_date所有的因子数据\n",
    "    # 返回一个df给数据库，有三列，分别是：trade_date、ts_code、factor_name\n",
    "\n",
    "# 将所有的因子函数集中在一个dict中\n",
    "fact_dict = {\"FACTOR1\": DIY_FACTOR1_SCRIPT, \"FACTOR2\": DIY_FACTOR2_SCRIPT}"
   ]
  },
  {
   "cell_type": "markdown",
   "id": "c4ff8b15-447e-40cb-9d9c-747b06a5950c",
   "metadata": {},
   "source": [
    "# 测试用例框架："
   ]
  },
  {
   "cell_type": "code",
   "execution_count": 31,
   "id": "95a9da82-f8b7-4276-9439-e79f62a26f66",
   "metadata": {},
   "outputs": [],
   "source": [
    "# 生成测试日期\n",
    "def get_datelist(num):\n",
    "    import pandas as pd\n",
    "    import numpy as np\n",
    "\n",
    "    start_date = pd.to_datetime(\"2020-01-01\")\n",
    "    end_date = pd.to_datetime(\"2023-12-31\")\n",
    "    max_start_date = end_date - pd.Timedelta(days=num - 1)\n",
    "    random_start = start_date + pd.to_timedelta(\n",
    "        np.random.randint(0, (max_start_date - start_date).days + 1), unit=\"D\"\n",
    "    )\n",
    "    date_range = pd.date_range(start=random_start, periods=num)\n",
    "    return date_range"
   ]
  },
  {
   "cell_type": "markdown",
   "id": "b5919930-d800-41e2-a240-af2f4bd3c1cf",
   "metadata": {},
   "source": [
    "## 全量计算测试，测试连续的20天"
   ]
  },
  {
   "cell_type": "code",
   "execution_count": null,
   "id": "201fdf07-43f7-4116-905a-065b37f0a846",
   "metadata": {},
   "outputs": [],
   "source": [
    "# 全量计算测试，测试连续的20天\n",
    "start_date = \"20150101\"  # 设置全量计算时的开始时间\n",
    "\n",
    "all_yes = True\n",
    "for trade_date in get_datelist(20):\n",
    "    common_param = make_common_param()  # 在这里准备你需要的数据和参数\n",
    "    for x in fact_dict:\n",
    "        try:\n",
    "            df = fact_dict[x](\n",
    "                trade_date=trade_date,\n",
    "                common_param=common_param,\n",
    "                increment=True,\n",
    "                start_date=start_date,\n",
    "            )\n",
    "            if type(df) != pd.DataFrame:\n",
    "                raise ValueError(\"返回值类型有误\")\n",
    "            if len(df) < 1:\n",
    "                raise ValueError(\"返回值行数有误\")\n",
    "            if len(df.columns) != 3:\n",
    "                raise ValueError(\"返回值列数有误\")\n",
    "            if df.columns[2] != x:\n",
    "                raise ValueError(\"返回值第三列名字有误\")\n",
    "            if len(df) != len(df.dropna()):\n",
    "                raise ValueError(\"返回值中含有None\")\n",
    "            print(f\"{x}测试通过\")\n",
    "        except Exception as e:\n",
    "            print(f\"因子{x}在{trade_date}出错:{e}\")\n",
    "            all_yes = False\n",
    "if all_yes:\n",
    "    print(\"全量计算测试全部通过！\")\n",
    "else:\n",
    "    print(\"没有全部通过全量计算测试！\")"
   ]
  },
  {
   "cell_type": "markdown",
   "id": "06650077-2da7-4204-a0a8-5d91fa030933",
   "metadata": {},
   "source": [
    "##  增量计算测试，测试连续的20天"
   ]
  },
  {
   "cell_type": "code",
   "execution_count": null,
   "id": "47f4d3f3-081d-4c86-b295-677108786cfb",
   "metadata": {},
   "outputs": [],
   "source": [
    "# 增量计算测试，测试连续的20天\n",
    "all_yes = True\n",
    "for trade_date in get_datelist(20):\n",
    "    print(trade_date, \"正在测试\")\n",
    "    common_param = make_common_param()  # 在这里准备你需要的数据和参数\n",
    "    for x in fact_dict:\n",
    "        try:\n",
    "            df = fact_dict[x](\n",
    "                trade_date=trade_date, common_param=common_param, increment=False\n",
    "            )\n",
    "            if type(df) == pd.DataFrame:\n",
    "                if len(df) < 1:\n",
    "                    raise ValueError(\"返回值行数有误\")\n",
    "                if len(df.columns) != 3:\n",
    "                    raise ValueError(\"返回值列数有误\")\n",
    "                if df.columns[2] != x:\n",
    "                    raise ValueError(\"返回值第三列名字有误\")\n",
    "                if len(df) != len(df.dropna()):\n",
    "                    raise ValueError(\"返回值中含有None\")\n",
    "        except Exception as e:\n",
    "            print(f\"因子{x}在{trade_date}出错:{e}\")\n",
    "            all_yes = False\n",
    "if all_yes:\n",
    "    print(\"增量计算测试全部通过！\")\n",
    "else:\n",
    "    print(\"没有全部通过增量计算测试！\")"
   ]
  }
 ],
 "metadata": {
  "kernelspec": {
   "display_name": "Python 3 (ipykernel)",
   "language": "python",
   "name": "python3"
  },
  "language_info": {
   "codemirror_mode": {
    "name": "ipython",
    "version": 3
   },
   "file_extension": ".py",
   "mimetype": "text/x-python",
   "name": "python",
   "nbconvert_exporter": "python",
   "pygments_lexer": "ipython3",
   "version": "3.8.12"
  }
 },
 "nbformat": 4,
 "nbformat_minor": 5
}
