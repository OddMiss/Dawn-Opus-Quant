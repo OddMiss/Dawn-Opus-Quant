{
 "cells": [
  {
   "cell_type": "code",
   "execution_count": 1,
   "id": "010569fe-e4d7-4745-99f9-5df86d23daa7",
   "metadata": {},
   "outputs": [],
   "source": [
    "from cylib.apis.all_api import *\n",
    "import matplotlib.pyplot as plt\n",
    "import pandas as pd"
   ]
  },
  {
   "cell_type": "raw",
   "id": "d0cdc81f-5147-493f-8b53-1a781fd2421c",
   "metadata": {},
   "source": [
    "| ts_code     |\tstr |\tY |\tTS代码 |\n",
    "| trade_date  |\tstr |\tY |\t交易日期 |\n",
    "| open        |\tfloat |\tY |\t开盘价(元) |\n",
    "| high        |\tfloat |\tY |\t最高价(元) |\n",
    "| low         |\tfloat |\tY |\t最低价(元) |\n",
    "| close       |\tfloat |\tY |\t收盘价(元) |\n",
    "| pre_close   |\tfloat |\tY |\t昨收盘价(元) |\n",
    "| change      | float |\tY |\t涨跌额(元) |\n",
    "| pct_chg     |\tfloat |\tY |\t涨跌幅(%) |\n",
    "| vol         |\tfloat |\tY |\t成交量(手) |\n",
    "| amount      |\tfloat |\tY |\t成交额(千元) |"
   ]
  },
  {
   "cell_type": "code",
   "execution_count": 3,
   "id": "7d72c18a-523a-4054-ba48-b9b6720742e7",
   "metadata": {},
   "outputs": [
    {
     "name": "stdout",
     "output_type": "stream",
     "text": [
      "CPU times: user 69.2 ms, sys: 4.11 ms, total: 73.3 ms\n",
      "Wall time: 196 ms\n"
     ]
    }
   ],
   "source": [
    "%%time\n",
    "price = get_price(\n",
    "    ts_code_list = ['515180.SH'],\n",
    "    feature_list = ['open', 'high', 'low', 'close', 'change', 'vol', 'amount'],\n",
    "    start_date='20191220',\n",
    "    trade_date = '20231101',\n",
    "    back_len = 10,\n",
    "    target_type='fund')\n",
    "price_df = pd.DataFrame(price)\n",
    "# price_df = price_df.drop(\"ts_code\", axis = 1)\n",
    "price_df.to_csv(\"515180_sh\")"
   ]
  }
 ],
 "metadata": {
  "kernelspec": {
   "display_name": "Python 3 (ipykernel)",
   "language": "python",
   "name": "python3"
  },
  "language_info": {
   "codemirror_mode": {
    "name": "ipython",
    "version": 3
   },
   "file_extension": ".py",
   "mimetype": "text/x-python",
   "name": "python",
   "nbconvert_exporter": "python",
   "pygments_lexer": "ipython3",
   "version": "3.8.12"
  }
 },
 "nbformat": 4,
 "nbformat_minor": 5
}
